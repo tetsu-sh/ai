{
  "nbformat": 4,
  "nbformat_minor": 0,
  "metadata": {
    "colab": {
      "name": "url_get.ipynb",
      "version": "0.3.2",
      "provenance": [],
      "collapsed_sections": [],
      "include_colab_link": true
    }
  },
  "cells": [
    {
      "cell_type": "markdown",
      "metadata": {
        "id": "view-in-github",
        "colab_type": "text"
      },
      "source": [
        "<a href=\"https://colab.research.google.com/github/tetsu-sh/ai/blob/master/url_get.ipynb\" target=\"_parent\"><img src=\"https://colab.research.google.com/assets/colab-badge.svg\" alt=\"Open In Colab\"/></a>"
      ]
    },
    {
      "metadata": {
        "id": "Ps9VOemS6LcZ",
        "colab_type": "code",
        "colab": {}
      },
      "cell_type": "code",
      "source": [
        "from bs4 import BeautifulSoup"
      ],
      "execution_count": 0,
      "outputs": []
    },
    {
      "metadata": {
        "id": "tvhQXeBr6TrV",
        "colab_type": "code",
        "colab": {}
      },
      "cell_type": "code",
      "source": [
        "import requests\n",
        "import pandas as pd\n"
      ],
      "execution_count": 0,
      "outputs": []
    },
    {
      "metadata": {
        "id": "FFP6ePIx6qkk",
        "colab_type": "code",
        "colab": {}
      },
      "cell_type": "code",
      "source": [
        "response = requests.get(\"\")\n",
        "response_pars=BeautifulSoup(response.text,\"html.parser\")\n",
        "tags = response_pars.find_all(\"a\")\n",
        "#aタグを取得\n",
        "\n",
        "titles=[]\n",
        "urls = []\n",
        "for tag in tags:\n",
        "  url = tag.get(\"href\")\n",
        "  urls.append(url)\n",
        "  title = tag.string\n",
        "  titles.append(title)\n",
        "#取得したaタグをタイトルとurlでリストに記入\n",
        "titles_s=pd.Series(titles)\n",
        "urls_s = pd.Series(urls)\n",
        "#シリーズ化\n",
        "goal = pd.concat([titles_s,urls_s],axis=1)\n",
        "goal.columns=[\"title\",\"url\"]\n",
        "#データフレームにしてカラム名\n",
        "extract=goal[goal[\"url\"].str.contains(\"review\",na=False)]\n",
        "extract\n",
        "#reviewの入っているものを抽出\n",
        " "
      ],
      "execution_count": 0,
      "outputs": []
    },
    {
      "metadata": {
        "id": "jgRnlmpnShMX",
        "colab_type": "code",
        "colab": {}
      },
      "cell_type": "code",
      "source": [
        ""
      ],
      "execution_count": 0,
      "outputs": []
    }
  ]
}